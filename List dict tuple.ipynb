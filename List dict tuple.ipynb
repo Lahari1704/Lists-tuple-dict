{
 "cells": [
  {
   "cell_type": "code",
   "execution_count": 1,
   "id": "3ca74b2e",
   "metadata": {},
   "outputs": [],
   "source": [
    "a=[4,5,6,78,23,12,23,34]"
   ]
  },
  {
   "cell_type": "code",
   "execution_count": 2,
   "id": "2dec1d99",
   "metadata": {},
   "outputs": [
    {
     "data": {
      "text/plain": [
       "list"
      ]
     },
     "execution_count": 2,
     "metadata": {},
     "output_type": "execute_result"
    }
   ],
   "source": [
    "type(a)"
   ]
  },
  {
   "cell_type": "code",
   "execution_count": 4,
   "id": "d4e54047",
   "metadata": {},
   "outputs": [],
   "source": [
    "a=[\"Lahari\",\"Jayasree\",\"Niharika\",\"Sravya\"]"
   ]
  },
  {
   "cell_type": "code",
   "execution_count": 5,
   "id": "e281b2e9",
   "metadata": {},
   "outputs": [
    {
     "data": {
      "text/plain": [
       "list"
      ]
     },
     "execution_count": 5,
     "metadata": {},
     "output_type": "execute_result"
    }
   ],
   "source": [
    "type(a)"
   ]
  },
  {
   "cell_type": "code",
   "execution_count": 6,
   "id": "686d38f7",
   "metadata": {},
   "outputs": [],
   "source": [
    "a=[3,4,\"Lahari\",\"Jayasree\",\"Niharika\",5,6,True]"
   ]
  },
  {
   "cell_type": "code",
   "execution_count": 7,
   "id": "b63eb9e9",
   "metadata": {},
   "outputs": [
    {
     "data": {
      "text/plain": [
       "list"
      ]
     },
     "execution_count": 7,
     "metadata": {},
     "output_type": "execute_result"
    }
   ],
   "source": [
    "type(a)"
   ]
  },
  {
   "cell_type": "code",
   "execution_count": 8,
   "id": "ade90f5a",
   "metadata": {},
   "outputs": [],
   "source": [
    "t=()"
   ]
  },
  {
   "cell_type": "code",
   "execution_count": 9,
   "id": "771bb80d",
   "metadata": {},
   "outputs": [
    {
     "data": {
      "text/plain": [
       "tuple"
      ]
     },
     "execution_count": 9,
     "metadata": {},
     "output_type": "execute_result"
    }
   ],
   "source": [
    "type(t)"
   ]
  },
  {
   "cell_type": "code",
   "execution_count": 10,
   "id": "98f3a713",
   "metadata": {},
   "outputs": [],
   "source": [
    "t=(3,4,\"Jayasree\",\"Niharika\",\"Lahari\",5,6,True)"
   ]
  },
  {
   "cell_type": "code",
   "execution_count": 11,
   "id": "3286f806",
   "metadata": {},
   "outputs": [
    {
     "data": {
      "text/plain": [
       "tuple"
      ]
     },
     "execution_count": 11,
     "metadata": {},
     "output_type": "execute_result"
    }
   ],
   "source": [
    "type(t)"
   ]
  },
  {
   "cell_type": "code",
   "execution_count": 12,
   "id": "64833a1c",
   "metadata": {},
   "outputs": [],
   "source": [
    "d={}"
   ]
  },
  {
   "cell_type": "code",
   "execution_count": 13,
   "id": "1d542200",
   "metadata": {},
   "outputs": [
    {
     "data": {
      "text/plain": [
       "dict"
      ]
     },
     "execution_count": 13,
     "metadata": {},
     "output_type": "execute_result"
    }
   ],
   "source": [
    "type(d)"
   ]
  },
  {
   "cell_type": "code",
   "execution_count": 14,
   "id": "5d423d96",
   "metadata": {},
   "outputs": [],
   "source": [
    "d={3,4,\"Jayasree\",\"Niharika\",\"Lahari\",5,6,True}"
   ]
  },
  {
   "cell_type": "code",
   "execution_count": 15,
   "id": "efe10f2b",
   "metadata": {},
   "outputs": [
    {
     "data": {
      "text/plain": [
       "set"
      ]
     },
     "execution_count": 15,
     "metadata": {},
     "output_type": "execute_result"
    }
   ],
   "source": [
    "type(d)"
   ]
  },
  {
   "cell_type": "code",
   "execution_count": 17,
   "id": "1f52a434",
   "metadata": {},
   "outputs": [],
   "source": [
    "d={\"name\":\"Lahari\",\"class\":\"sec-1 honors\",\"age\":18}"
   ]
  },
  {
   "cell_type": "code",
   "execution_count": 18,
   "id": "669ac972",
   "metadata": {},
   "outputs": [
    {
     "data": {
      "text/plain": [
       "dict"
      ]
     },
     "execution_count": 18,
     "metadata": {},
     "output_type": "execute_result"
    }
   ],
   "source": [
    "type(d)"
   ]
  },
  {
   "cell_type": "code",
   "execution_count": 19,
   "id": "97fc81d6",
   "metadata": {},
   "outputs": [
    {
     "data": {
      "text/plain": [
       "'Lahari'"
      ]
     },
     "execution_count": 19,
     "metadata": {},
     "output_type": "execute_result"
    }
   ],
   "source": [
    "d[\"name\"]"
   ]
  },
  {
   "cell_type": "code",
   "execution_count": 20,
   "id": "39bd2f8a",
   "metadata": {},
   "outputs": [],
   "source": [
    "l=[\"Jayasree\",\"Niharika\",\"Lahari\",5,6,True]"
   ]
  },
  {
   "cell_type": "code",
   "execution_count": 22,
   "id": "5678d44c",
   "metadata": {},
   "outputs": [
    {
     "data": {
      "text/plain": [
       "'Lahari'"
      ]
     },
     "execution_count": 22,
     "metadata": {},
     "output_type": "execute_result"
    }
   ],
   "source": [
    "l[2]"
   ]
  },
  {
   "cell_type": "code",
   "execution_count": 25,
   "id": "4df4ed51",
   "metadata": {},
   "outputs": [
    {
     "data": {
      "text/plain": [
       "True"
      ]
     },
     "execution_count": 25,
     "metadata": {},
     "output_type": "execute_result"
    }
   ],
   "source": [
    "l[-1]"
   ]
  },
  {
   "cell_type": "code",
   "execution_count": 26,
   "id": "6af270cf",
   "metadata": {},
   "outputs": [
    {
     "data": {
      "text/plain": [
       "6"
      ]
     },
     "execution_count": 26,
     "metadata": {},
     "output_type": "execute_result"
    }
   ],
   "source": [
    "l[-2]"
   ]
  },
  {
   "cell_type": "code",
   "execution_count": 27,
   "id": "2b4d2a26",
   "metadata": {},
   "outputs": [
    {
     "data": {
      "text/plain": [
       "'Lahari'"
      ]
     },
     "execution_count": 27,
     "metadata": {},
     "output_type": "execute_result"
    }
   ],
   "source": [
    "l[-4]"
   ]
  },
  {
   "cell_type": "code",
   "execution_count": 28,
   "id": "ce7fad08",
   "metadata": {},
   "outputs": [
    {
     "data": {
      "text/plain": [
       "'Jayasree'"
      ]
     },
     "execution_count": 28,
     "metadata": {},
     "output_type": "execute_result"
    }
   ],
   "source": [
    "l[-6]"
   ]
  },
  {
   "cell_type": "code",
   "execution_count": 29,
   "id": "2cf2cea2",
   "metadata": {},
   "outputs": [
    {
     "ename": "IndexError",
     "evalue": "list index out of range",
     "output_type": "error",
     "traceback": [
      "\u001b[1;31m---------------------------------------------------------------------------\u001b[0m",
      "\u001b[1;31mIndexError\u001b[0m                                Traceback (most recent call last)",
      "Input \u001b[1;32mIn [29]\u001b[0m, in \u001b[0;36m<cell line: 1>\u001b[1;34m()\u001b[0m\n\u001b[1;32m----> 1\u001b[0m \u001b[43ml\u001b[49m\u001b[43m[\u001b[49m\u001b[38;5;241;43m-\u001b[39;49m\u001b[38;5;241;43m9\u001b[39;49m\u001b[43m]\u001b[49m\n",
      "\u001b[1;31mIndexError\u001b[0m: list index out of range"
     ]
    }
   ],
   "source": [
    "l[-9]"
   ]
  },
  {
   "cell_type": "code",
   "execution_count": 30,
   "id": "1f94d14f",
   "metadata": {},
   "outputs": [
    {
     "data": {
      "text/plain": [
       "['Jayasree', 'Niharika', 'Lahari', 5, 6, True]"
      ]
     },
     "execution_count": 30,
     "metadata": {},
     "output_type": "execute_result"
    }
   ],
   "source": [
    "l[0:6]"
   ]
  },
  {
   "cell_type": "code",
   "execution_count": 31,
   "id": "8d101bf6",
   "metadata": {},
   "outputs": [
    {
     "data": {
      "text/plain": [
       "['Niharika', 'Lahari', 5]"
      ]
     },
     "execution_count": 31,
     "metadata": {},
     "output_type": "execute_result"
    }
   ],
   "source": [
    "l[1:4]"
   ]
  },
  {
   "cell_type": "code",
   "execution_count": 34,
   "id": "d27cf8ad",
   "metadata": {},
   "outputs": [
    {
     "data": {
      "text/plain": [
       "['Jayasree', 5]"
      ]
     },
     "execution_count": 34,
     "metadata": {},
     "output_type": "execute_result"
    }
   ],
   "source": [
    "l[0:7:3]"
   ]
  },
  {
   "cell_type": "code",
   "execution_count": 35,
   "id": "9793157d",
   "metadata": {},
   "outputs": [
    {
     "data": {
      "text/plain": [
       "[]"
      ]
     },
     "execution_count": 35,
     "metadata": {},
     "output_type": "execute_result"
    }
   ],
   "source": [
    "l[0:7:-1]AA"
   ]
  },
  {
   "cell_type": "code",
   "execution_count": 39,
   "id": "cc50c42f",
   "metadata": {},
   "outputs": [
    {
     "data": {
      "text/plain": [
       "[True, 5, 'Niharika']"
      ]
     },
     "execution_count": 39,
     "metadata": {},
     "output_type": "execute_result"
    }
   ],
   "source": [
    "l[-1:-100:-2]"
   ]
  },
  {
   "cell_type": "code",
   "execution_count": 40,
   "id": "845a99b4",
   "metadata": {},
   "outputs": [
    {
     "data": {
      "text/plain": [
       "['Jayasree', 'Niharika', 'Lahari', 5, 6, True]"
      ]
     },
     "execution_count": 40,
     "metadata": {},
     "output_type": "execute_result"
    }
   ],
   "source": [
    "l"
   ]
  },
  {
   "cell_type": "code",
   "execution_count": 41,
   "id": "049fb80d",
   "metadata": {},
   "outputs": [],
   "source": [
    "l.append(\"Sravya\")"
   ]
  },
  {
   "cell_type": "code",
   "execution_count": 42,
   "id": "cbc0a701",
   "metadata": {},
   "outputs": [
    {
     "data": {
      "text/plain": [
       "['Jayasree', 'Niharika', 'Lahari', 5, 6, True, 'Sravya']"
      ]
     },
     "execution_count": 42,
     "metadata": {},
     "output_type": "execute_result"
    }
   ],
   "source": [
    "l"
   ]
  },
  {
   "cell_type": "code",
   "execution_count": 44,
   "id": "5c6ae072",
   "metadata": {},
   "outputs": [
    {
     "data": {
      "text/plain": [
       "1"
      ]
     },
     "execution_count": 44,
     "metadata": {},
     "output_type": "execute_result"
    }
   ],
   "source": [
    "l.count(\"Lahari\")"
   ]
  },
  {
   "cell_type": "code",
   "execution_count": 51,
   "id": "cf220572",
   "metadata": {},
   "outputs": [
    {
     "data": {
      "text/plain": [
       "0"
      ]
     },
     "execution_count": 51,
     "metadata": {},
     "output_type": "execute_result"
    }
   ],
   "source": [
    "l.count(3)"
   ]
  },
  {
   "cell_type": "code",
   "execution_count": 54,
   "id": "48ce8866",
   "metadata": {},
   "outputs": [],
   "source": [
    "l.extend(\"Lahari\")"
   ]
  },
  {
   "cell_type": "code",
   "execution_count": 77,
   "id": "c7526a22",
   "metadata": {},
   "outputs": [
    {
     "data": {
      "text/plain": [
       "['Jayasree',\n",
       " 'Niharika',\n",
       " 'Lahari',\n",
       " 5,\n",
       " 6,\n",
       " True,\n",
       " 'Sravya',\n",
       " 'A',\n",
       " 'K',\n",
       " 'S',\n",
       " 'H',\n",
       " 'I',\n",
       " 'T',\n",
       " 'H',\n",
       " 'A',\n",
       " 'M',\n",
       " 'A',\n",
       " 'N',\n",
       " 'I',\n",
       " 'S',\n",
       " 'H',\n",
       " 'M',\n",
       " 'A',\n",
       " 'N',\n",
       " 'I',\n",
       " 'S',\n",
       " [5.7, 'Madhu', 6, 34],\n",
       " [5.7, 'Madhu', 6, 34]]"
      ]
     },
     "execution_count": 77,
     "metadata": {},
     "output_type": "execute_result"
    }
   ],
   "source": [
    "l"
   ]
  },
  {
   "cell_type": "code",
   "execution_count": 79,
   "id": "ce01d807",
   "metadata": {},
   "outputs": [],
   "source": [
    "l.append([5.7,\"Madhu\",6,34])"
   ]
  },
  {
   "cell_type": "code",
   "execution_count": 80,
   "id": "1f1214a5",
   "metadata": {},
   "outputs": [
    {
     "data": {
      "text/plain": [
       "['Jayasree',\n",
       " 'Niharika',\n",
       " 'Lahari',\n",
       " 5,\n",
       " 6,\n",
       " True,\n",
       " 'Sravya',\n",
       " 'A',\n",
       " 'K',\n",
       " 'S',\n",
       " 'H',\n",
       " 'I',\n",
       " 'T',\n",
       " 'H',\n",
       " 'A',\n",
       " 'M',\n",
       " 'A',\n",
       " 'N',\n",
       " 'I',\n",
       " 'S',\n",
       " 'H',\n",
       " 'M',\n",
       " 'A',\n",
       " 'N',\n",
       " 'I',\n",
       " 'S',\n",
       " [5.7, 'Madhu', 6, 34],\n",
       " [5.7, 'Madhu', 6, 34],\n",
       " [5.7, 'Madhu', 6, 34],\n",
       " [5.7, 'Madhu', 6, 34]]"
      ]
     },
     "execution_count": 80,
     "metadata": {},
     "output_type": "execute_result"
    }
   ],
   "source": [
    "l"
   ]
  },
  {
   "cell_type": "code",
   "execution_count": 81,
   "id": "3e9d7ec1",
   "metadata": {},
   "outputs": [
    {
     "data": {
      "text/plain": [
       "[5.7, 'Madhu', 6, 34]"
      ]
     },
     "execution_count": 81,
     "metadata": {},
     "output_type": "execute_result"
    }
   ],
   "source": [
    "l.pop()"
   ]
  },
  {
   "cell_type": "code",
   "execution_count": 82,
   "id": "aa809fce",
   "metadata": {},
   "outputs": [
    {
     "data": {
      "text/plain": [
       "[5.7, 'Madhu', 6, 34]"
      ]
     },
     "execution_count": 82,
     "metadata": {},
     "output_type": "execute_result"
    }
   ],
   "source": [
    "l.pop()"
   ]
  },
  {
   "cell_type": "code",
   "execution_count": 83,
   "id": "585d84aa",
   "metadata": {},
   "outputs": [
    {
     "data": {
      "text/plain": [
       "['Jayasree',\n",
       " 'Niharika',\n",
       " 'Lahari',\n",
       " 5,\n",
       " 6,\n",
       " True,\n",
       " 'Sravya',\n",
       " 'A',\n",
       " 'K',\n",
       " 'S',\n",
       " 'H',\n",
       " 'I',\n",
       " 'T',\n",
       " 'H',\n",
       " 'A',\n",
       " 'M',\n",
       " 'A',\n",
       " 'N',\n",
       " 'I',\n",
       " 'S',\n",
       " 'H',\n",
       " 'M',\n",
       " 'A',\n",
       " 'N',\n",
       " 'I',\n",
       " 'S',\n",
       " [5.7, 'Madhu', 6, 34],\n",
       " [5.7, 'Madhu', 6, 34]]"
      ]
     },
     "execution_count": 83,
     "metadata": {},
     "output_type": "execute_result"
    }
   ],
   "source": [
    "l"
   ]
  },
  {
   "cell_type": "code",
   "execution_count": 84,
   "id": "36b2b4ef",
   "metadata": {},
   "outputs": [],
   "source": [
    "l.remove(\"M\")"
   ]
  },
  {
   "cell_type": "code",
   "execution_count": 85,
   "id": "7eae418c",
   "metadata": {},
   "outputs": [
    {
     "data": {
      "text/plain": [
       "['Jayasree',\n",
       " 'Niharika',\n",
       " 'Lahari',\n",
       " 5,\n",
       " 6,\n",
       " True,\n",
       " 'Sravya',\n",
       " 'A',\n",
       " 'K',\n",
       " 'S',\n",
       " 'H',\n",
       " 'I',\n",
       " 'T',\n",
       " 'H',\n",
       " 'A',\n",
       " 'A',\n",
       " 'N',\n",
       " 'I',\n",
       " 'S',\n",
       " 'H',\n",
       " 'M',\n",
       " 'A',\n",
       " 'N',\n",
       " 'I',\n",
       " 'S',\n",
       " [5.7, 'Madhu', 6, 34],\n",
       " [5.7, 'Madhu', 6, 34]]"
      ]
     },
     "execution_count": 85,
     "metadata": {},
     "output_type": "execute_result"
    }
   ],
   "source": [
    "l"
   ]
  },
  {
   "cell_type": "code",
   "execution_count": 86,
   "id": "7b04c84e",
   "metadata": {},
   "outputs": [],
   "source": [
    "l.remove(\"M\")"
   ]
  },
  {
   "cell_type": "code",
   "execution_count": 87,
   "id": "35730a00",
   "metadata": {},
   "outputs": [
    {
     "data": {
      "text/plain": [
       "['Jayasree',\n",
       " 'Niharika',\n",
       " 'Lahari',\n",
       " 5,\n",
       " 6,\n",
       " True,\n",
       " 'Sravya',\n",
       " 'A',\n",
       " 'K',\n",
       " 'S',\n",
       " 'H',\n",
       " 'I',\n",
       " 'T',\n",
       " 'H',\n",
       " 'A',\n",
       " 'A',\n",
       " 'N',\n",
       " 'I',\n",
       " 'S',\n",
       " 'H',\n",
       " 'A',\n",
       " 'N',\n",
       " 'I',\n",
       " 'S',\n",
       " [5.7, 'Madhu', 6, 34],\n",
       " [5.7, 'Madhu', 6, 34]]"
      ]
     },
     "execution_count": 87,
     "metadata": {},
     "output_type": "execute_result"
    }
   ],
   "source": [
    "l"
   ]
  },
  {
   "cell_type": "code",
   "execution_count": 88,
   "id": "153dc680",
   "metadata": {},
   "outputs": [],
   "source": [
    "l1={\"Jayasree\", \"Niharika\", \"Lahari\", 5, 6, True, \"Sravya\"}"
   ]
  },
  {
   "cell_type": "code",
   "execution_count": 89,
   "id": "21a19f79",
   "metadata": {},
   "outputs": [
    {
     "ename": "TypeError",
     "evalue": "'>' not supported between instances of 'str' and 'int'",
     "output_type": "error",
     "traceback": [
      "\u001b[1;31m---------------------------------------------------------------------------\u001b[0m",
      "\u001b[1;31mTypeError\u001b[0m                                 Traceback (most recent call last)",
      "Input \u001b[1;32mIn [89]\u001b[0m, in \u001b[0;36m<cell line: 1>\u001b[1;34m()\u001b[0m\n\u001b[1;32m----> 1\u001b[0m \u001b[38;5;28;43mmax\u001b[39;49m\u001b[43m(\u001b[49m\u001b[43ml1\u001b[49m\u001b[43m)\u001b[49m\n",
      "\u001b[1;31mTypeError\u001b[0m: '>' not supported between instances of 'str' and 'int'"
     ]
    }
   ],
   "source": [
    "max(l1)"
   ]
  },
  {
   "cell_type": "code",
   "execution_count": 117,
   "id": "b4deb559",
   "metadata": {},
   "outputs": [],
   "source": [
    "l2=(\"Lahari\",\"Jayasree\",\"Niharika\")"
   ]
  },
  {
   "cell_type": "code",
   "execution_count": 118,
   "id": "cad45515",
   "metadata": {},
   "outputs": [
    {
     "data": {
      "text/plain": [
       "'Niharika'"
      ]
     },
     "execution_count": 118,
     "metadata": {},
     "output_type": "execute_result"
    }
   ],
   "source": [
    "max(l2)"
   ]
  },
  {
   "cell_type": "code",
   "execution_count": 119,
   "id": "1cebb421",
   "metadata": {},
   "outputs": [],
   "source": [
    "l3={12,13,14,15,16,17,18,19,24}"
   ]
  },
  {
   "cell_type": "code",
   "execution_count": 120,
   "id": "24e21be2",
   "metadata": {},
   "outputs": [
    {
     "data": {
      "text/plain": [
       "24"
      ]
     },
     "execution_count": 120,
     "metadata": {},
     "output_type": "execute_result"
    }
   ],
   "source": [
    "max(l3)"
   ]
  },
  {
   "cell_type": "code",
   "execution_count": 121,
   "id": "3ed0ee19",
   "metadata": {},
   "outputs": [
    {
     "data": {
      "text/plain": [
       "'Jayasree'"
      ]
     },
     "execution_count": 121,
     "metadata": {},
     "output_type": "execute_result"
    }
   ],
   "source": [
    "min(l2)"
   ]
  },
  {
   "cell_type": "code",
   "execution_count": 122,
   "id": "8e28845b",
   "metadata": {},
   "outputs": [
    {
     "data": {
      "text/plain": [
       "12"
      ]
     },
     "execution_count": 122,
     "metadata": {},
     "output_type": "execute_result"
    }
   ],
   "source": [
    "min(l3)"
   ]
  },
  {
   "cell_type": "code",
   "execution_count": 123,
   "id": "526f3acf",
   "metadata": {},
   "outputs": [],
   "source": [
    "l4=[\"ab\",\"AB\",\"cd\"]"
   ]
  },
  {
   "cell_type": "code",
   "execution_count": 124,
   "id": "65f8232e",
   "metadata": {},
   "outputs": [
    {
     "data": {
      "text/plain": [
       "'AB'"
      ]
     },
     "execution_count": 124,
     "metadata": {},
     "output_type": "execute_result"
    }
   ],
   "source": [
    "min(l4)"
   ]
  },
  {
   "cell_type": "code",
   "execution_count": 125,
   "id": "769bb391",
   "metadata": {},
   "outputs": [],
   "source": [
    "l5=[\"A\",\"B\",\"C\",\"D\",\"a\",\"b\",\"c\",\"d\"]"
   ]
  },
  {
   "cell_type": "code",
   "execution_count": 126,
   "id": "be5326bb",
   "metadata": {},
   "outputs": [
    {
     "data": {
      "text/plain": [
       "'d'"
      ]
     },
     "execution_count": 126,
     "metadata": {},
     "output_type": "execute_result"
    }
   ],
   "source": [
    "max(l5)"
   ]
  },
  {
   "cell_type": "code",
   "execution_count": 127,
   "id": "260e2bac",
   "metadata": {},
   "outputs": [
    {
     "data": {
      "text/plain": [
       "'A'"
      ]
     },
     "execution_count": 127,
     "metadata": {},
     "output_type": "execute_result"
    }
   ],
   "source": [
    "min(l5)"
   ]
  },
  {
   "cell_type": "code",
   "execution_count": 128,
   "id": "5e3c104a",
   "metadata": {},
   "outputs": [],
   "source": [
    "l5[0] =\"lahari\""
   ]
  },
  {
   "cell_type": "code",
   "execution_count": 129,
   "id": "633c35c2",
   "metadata": {},
   "outputs": [
    {
     "data": {
      "text/plain": [
       "['lahari', 'B', 'C', 'D', 'a', 'b', 'c', 'd']"
      ]
     },
     "execution_count": 129,
     "metadata": {},
     "output_type": "execute_result"
    }
   ],
   "source": [
    "l5"
   ]
  },
  {
   "cell_type": "code",
   "execution_count": 131,
   "id": "975402cb",
   "metadata": {},
   "outputs": [
    {
     "data": {
      "text/plain": [
       "2"
      ]
     },
     "execution_count": 131,
     "metadata": {},
     "output_type": "execute_result"
    }
   ],
   "source": [
    "l2.index(\"Niharika\")"
   ]
  },
  {
   "cell_type": "code",
   "execution_count": 132,
   "id": "8d424ad1",
   "metadata": {},
   "outputs": [
    {
     "data": {
      "text/plain": [
       "1"
      ]
     },
     "execution_count": 132,
     "metadata": {},
     "output_type": "execute_result"
    }
   ],
   "source": [
    "l2.count(\"Lahari\") "
   ]
  },
  {
   "cell_type": "code",
   "execution_count": 133,
   "id": "3142e770",
   "metadata": {},
   "outputs": [],
   "source": [
    "str= \"Lahari\""
   ]
  },
  {
   "cell_type": "code",
   "execution_count": 134,
   "id": "dae5c3b3",
   "metadata": {},
   "outputs": [
    {
     "data": {
      "text/plain": [
       "'i'"
      ]
     },
     "execution_count": 134,
     "metadata": {},
     "output_type": "execute_result"
    }
   ],
   "source": [
    "str[5]"
   ]
  },
  {
   "cell_type": "code",
   "execution_count": 136,
   "id": "1d92095c",
   "metadata": {},
   "outputs": [
    {
     "ename": "TypeError",
     "evalue": "'str' object does not support item assignment",
     "output_type": "error",
     "traceback": [
      "\u001b[1;31m---------------------------------------------------------------------------\u001b[0m",
      "\u001b[1;31mTypeError\u001b[0m                                 Traceback (most recent call last)",
      "Input \u001b[1;32mIn [136]\u001b[0m, in \u001b[0;36m<cell line: 1>\u001b[1;34m()\u001b[0m\n\u001b[1;32m----> 1\u001b[0m \u001b[38;5;28mstr\u001b[39m[\u001b[38;5;241m5\u001b[39m]\u001b[38;5;241m=\u001b[39m\u001b[38;5;124m\"\u001b[39m\u001b[38;5;124mk\u001b[39m\u001b[38;5;124m\"\u001b[39m\n",
      "\u001b[1;31mTypeError\u001b[0m: 'str' object does not support item assignment"
     ]
    }
   ],
   "source": [
    "str[5]=\"k\""
   ]
  },
  {
   "cell_type": "code",
   "execution_count": 139,
   "id": "51cecad7",
   "metadata": {},
   "outputs": [
    {
     "data": {
      "text/plain": [
       "'Niharika'"
      ]
     },
     "execution_count": 139,
     "metadata": {},
     "output_type": "execute_result"
    }
   ],
   "source": [
    "l2[2]"
   ]
  },
  {
   "cell_type": "code",
   "execution_count": 140,
   "id": "8ef58018",
   "metadata": {},
   "outputs": [
    {
     "ename": "TypeError",
     "evalue": "can only concatenate tuple (not \"str\") to tuple",
     "output_type": "error",
     "traceback": [
      "\u001b[1;31m---------------------------------------------------------------------------\u001b[0m",
      "\u001b[1;31mTypeError\u001b[0m                                 Traceback (most recent call last)",
      "Input \u001b[1;32mIn [140]\u001b[0m, in \u001b[0;36m<cell line: 1>\u001b[1;34m()\u001b[0m\n\u001b[1;32m----> 1\u001b[0m \u001b[43ml2\u001b[49m\u001b[38;5;241;43m+\u001b[39;49m\u001b[38;5;124;43m\"\u001b[39;49m\u001b[38;5;124;43mSravya\u001b[39;49m\u001b[38;5;124;43m\"\u001b[39;49m\n",
      "\u001b[1;31mTypeError\u001b[0m: can only concatenate tuple (not \"str\") to tuple"
     ]
    }
   ],
   "source": [
    "l2+\"Sravya\""
   ]
  },
  {
   "cell_type": "code",
   "execution_count": 141,
   "id": "0a3977a1",
   "metadata": {},
   "outputs": [
    {
     "ename": "TypeError",
     "evalue": "can only concatenate tuple (not \"str\") to tuple",
     "output_type": "error",
     "traceback": [
      "\u001b[1;31m---------------------------------------------------------------------------\u001b[0m",
      "\u001b[1;31mTypeError\u001b[0m                                 Traceback (most recent call last)",
      "Input \u001b[1;32mIn [141]\u001b[0m, in \u001b[0;36m<cell line: 1>\u001b[1;34m()\u001b[0m\n\u001b[1;32m----> 1\u001b[0m \u001b[43ml2\u001b[49m\u001b[38;5;241;43m+\u001b[39;49m\u001b[43m(\u001b[49m\u001b[38;5;124;43m\"\u001b[39;49m\u001b[38;5;124;43mSravya\u001b[39;49m\u001b[38;5;124;43m\"\u001b[39;49m\u001b[43m)\u001b[49m\n",
      "\u001b[1;31mTypeError\u001b[0m: can only concatenate tuple (not \"str\") to tuple"
     ]
    }
   ],
   "source": [
    "l2+(\"Sravya\")"
   ]
  },
  {
   "cell_type": "code",
   "execution_count": 142,
   "id": "541ec80c",
   "metadata": {},
   "outputs": [
    {
     "data": {
      "text/plain": [
       "('Lahari', 'Jayasree', 'Niharika')"
      ]
     },
     "execution_count": 142,
     "metadata": {},
     "output_type": "execute_result"
    }
   ],
   "source": [
    "l2[0:9]"
   ]
  },
  {
   "cell_type": "code",
   "execution_count": 143,
   "id": "a2873361",
   "metadata": {},
   "outputs": [
    {
     "data": {
      "text/plain": [
       "('Lahari', 'Niharika')"
      ]
     },
     "execution_count": 143,
     "metadata": {},
     "output_type": "execute_result"
    }
   ],
   "source": [
    "l2[0:9:2]"
   ]
  },
  {
   "cell_type": "code",
   "execution_count": 144,
   "id": "480702cb",
   "metadata": {},
   "outputs": [
    {
     "data": {
      "text/plain": [
       "('Niharika', 'Jayasree')"
      ]
     },
     "execution_count": 144,
     "metadata": {},
     "output_type": "execute_result"
    }
   ],
   "source": [
    "l2[9:0:-1]"
   ]
  },
  {
   "cell_type": "markdown",
   "id": "5b936eda",
   "metadata": {},
   "source": [
    "Tuple is immutable,list is mutable"
   ]
  },
  {
   "cell_type": "code",
   "execution_count": 145,
   "id": "7e0e64f7",
   "metadata": {},
   "outputs": [
    {
     "data": {
      "text/plain": [
       "('Niharika', 'Jayasree', 'Lahari')"
      ]
     },
     "execution_count": 145,
     "metadata": {},
     "output_type": "execute_result"
    }
   ],
   "source": [
    "l2[-1:-100:-1]"
   ]
  },
  {
   "cell_type": "code",
   "execution_count": 146,
   "id": "0f405c9b",
   "metadata": {},
   "outputs": [
    {
     "data": {
      "text/plain": [
       "('Niharika', 'Jayasree', 'Lahari')"
      ]
     },
     "execution_count": 146,
     "metadata": {},
     "output_type": "execute_result"
    }
   ],
   "source": [
    "l2[::-1]"
   ]
  },
  {
   "cell_type": "code",
   "execution_count": 147,
   "id": "a0831a1f",
   "metadata": {},
   "outputs": [],
   "source": [
    "l1=[\"Jayasree\", \"Niharika\", \"Lahari\", 5, 6, True, \"Sravya\"]"
   ]
  },
  {
   "cell_type": "code",
   "execution_count": 150,
   "id": "cbe32b2c",
   "metadata": {},
   "outputs": [
    {
     "data": {
      "text/plain": [
       "['Jayasree', 'Niharika', 'Lahari', 5, 6, True, 'Sravya', 'Vinay']"
      ]
     },
     "execution_count": 150,
     "metadata": {},
     "output_type": "execute_result"
    }
   ],
   "source": [
    "l1+[\"Vinay\"]"
   ]
  },
  {
   "cell_type": "code",
   "execution_count": 151,
   "id": "58d9c405",
   "metadata": {},
   "outputs": [],
   "source": [
    "l1.insert(7,\"chandana\")"
   ]
  },
  {
   "cell_type": "code",
   "execution_count": 152,
   "id": "d5894ad5",
   "metadata": {},
   "outputs": [
    {
     "data": {
      "text/plain": [
       "['Jayasree', 'Niharika', 'Lahari', 5, 6, True, 'Sravya', 'chandana']"
      ]
     },
     "execution_count": 152,
     "metadata": {},
     "output_type": "execute_result"
    }
   ],
   "source": [
    "l1"
   ]
  },
  {
   "cell_type": "code",
   "execution_count": 157,
   "id": "4a98006e",
   "metadata": {},
   "outputs": [],
   "source": [
    "l1.insert(-2,\"Akshara\")"
   ]
  },
  {
   "cell_type": "code",
   "execution_count": 158,
   "id": "d958170f",
   "metadata": {},
   "outputs": [
    {
     "data": {
      "text/plain": [
       "['Jayasree',\n",
       " 'Niharika',\n",
       " 'Lahari',\n",
       " 5,\n",
       " 6,\n",
       " True,\n",
       " 'Sravya',\n",
       " 'Chandana',\n",
       " 'Akshara',\n",
       " 'Chandana',\n",
       " 'chandana']"
      ]
     },
     "execution_count": 158,
     "metadata": {},
     "output_type": "execute_result"
    }
   ],
   "source": [
    "l1"
   ]
  },
  {
   "cell_type": "code",
   "execution_count": 159,
   "id": "a2342bd0",
   "metadata": {},
   "outputs": [],
   "source": [
    " l1.insert(-4,89)"
   ]
  },
  {
   "cell_type": "code",
   "execution_count": 160,
   "id": "ac9bca3e",
   "metadata": {},
   "outputs": [
    {
     "data": {
      "text/plain": [
       "['Jayasree',\n",
       " 'Niharika',\n",
       " 'Lahari',\n",
       " 5,\n",
       " 6,\n",
       " True,\n",
       " 'Sravya',\n",
       " 89,\n",
       " 'Chandana',\n",
       " 'Akshara',\n",
       " 'Chandana',\n",
       " 'chandana']"
      ]
     },
     "execution_count": 160,
     "metadata": {},
     "output_type": "execute_result"
    }
   ],
   "source": [
    "l1"
   ]
  },
  {
   "cell_type": "code",
   "execution_count": 161,
   "id": "d38913f7",
   "metadata": {},
   "outputs": [],
   "source": [
    "l2=['Jayasree',\n",
    " 'Niharika',\n",
    " 'Lahari',\n",
    " 5,\n",
    " 6,\n",
    " True,\n",
    " 'Sravya',\n",
    " 89,\n",
    " 'Chandana',\n",
    " 'Akshara',]"
   ]
  },
  {
   "cell_type": "code",
   "execution_count": 162,
   "id": "4e6f6886",
   "metadata": {},
   "outputs": [
    {
     "data": {
      "text/plain": [
       "['Jayasree',\n",
       " 'Niharika',\n",
       " 'Lahari',\n",
       " 5,\n",
       " 6,\n",
       " True,\n",
       " 'Sravya',\n",
       " 89,\n",
       " 'Chandana',\n",
       " 'Akshara']"
      ]
     },
     "execution_count": 162,
     "metadata": {},
     "output_type": "execute_result"
    }
   ],
   "source": [
    "l2"
   ]
  },
  {
   "cell_type": "code",
   "execution_count": 163,
   "id": "e7ebf121",
   "metadata": {},
   "outputs": [],
   "source": [
    "l2.append([4,\"navya\"])"
   ]
  },
  {
   "cell_type": "code",
   "execution_count": 164,
   "id": "27540833",
   "metadata": {},
   "outputs": [
    {
     "data": {
      "text/plain": [
       "['Jayasree',\n",
       " 'Niharika',\n",
       " 'Lahari',\n",
       " 5,\n",
       " 6,\n",
       " True,\n",
       " 'Sravya',\n",
       " 89,\n",
       " 'Chandana',\n",
       " 'Akshara',\n",
       " [4, 'navya']]"
      ]
     },
     "execution_count": 164,
     "metadata": {},
     "output_type": "execute_result"
    }
   ],
   "source": [
    "l2"
   ]
  },
  {
   "cell_type": "code",
   "execution_count": 165,
   "id": "6764cead",
   "metadata": {},
   "outputs": [
    {
     "data": {
      "text/plain": [
       "5"
      ]
     },
     "execution_count": 165,
     "metadata": {},
     "output_type": "execute_result"
    }
   ],
   "source": [
    "l2[3]"
   ]
  },
  {
   "cell_type": "code",
   "execution_count": 171,
   "id": "6275b6d6",
   "metadata": {},
   "outputs": [],
   "source": [
    "l2.remove(5)"
   ]
  },
  {
   "cell_type": "code",
   "execution_count": 172,
   "id": "fef0e2a4",
   "metadata": {},
   "outputs": [
    {
     "data": {
      "text/plain": [
       "['Jayasree',\n",
       " 'Niharika',\n",
       " 'Lahari',\n",
       " 6,\n",
       " True,\n",
       " 'Sravya',\n",
       " 89,\n",
       " 'Akshara',\n",
       " [4, 'navya']]"
      ]
     },
     "execution_count": 172,
     "metadata": {},
     "output_type": "execute_result"
    }
   ],
   "source": [
    "l2"
   ]
  },
  {
   "cell_type": "code",
   "execution_count": 173,
   "id": "fb098553",
   "metadata": {},
   "outputs": [],
   "source": [
    "d={\"name\":\"Praneetha\",\"Age\":18,\"Branch\":\"cse\"}"
   ]
  },
  {
   "cell_type": "code",
   "execution_count": 175,
   "id": "9c22ddc4",
   "metadata": {},
   "outputs": [
    {
     "data": {
      "text/plain": [
       "18"
      ]
     },
     "execution_count": 175,
     "metadata": {},
     "output_type": "execute_result"
    }
   ],
   "source": [
    "d[\"Age\"]"
   ]
  },
  {
   "cell_type": "code",
   "execution_count": null,
   "id": "a116551b",
   "metadata": {},
   "outputs": [],
   "source": []
  }
 ],
 "metadata": {
  "kernelspec": {
   "display_name": "Python 3 (ipykernel)",
   "language": "python",
   "name": "python3"
  },
  "language_info": {
   "codemirror_mode": {
    "name": "ipython",
    "version": 3
   },
   "file_extension": ".py",
   "mimetype": "text/x-python",
   "name": "python",
   "nbconvert_exporter": "python",
   "pygments_lexer": "ipython3",
   "version": "3.10.5"
  }
 },
 "nbformat": 4,
 "nbformat_minor": 5
}
